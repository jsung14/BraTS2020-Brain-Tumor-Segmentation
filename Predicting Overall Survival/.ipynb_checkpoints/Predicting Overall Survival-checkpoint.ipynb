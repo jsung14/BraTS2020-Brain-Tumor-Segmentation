{
 "cells": [
  {
   "cell_type": "markdown",
   "id": "58f8361b-2d03-4387-90b7-7a80544df8b0",
   "metadata": {},
   "source": [
    "# BraTS2020 Overall Survival Prediction\n",
    "\n",
    "Takes data from https://www.kaggle.com/datasets/awsaf49/brats20-dataset-training-validation, which is from the BraTS2020 Competition. <br><br> There are 4 goals of the project:\n",
    "1. Manual segmentation labels of tumor sub-regions,\n",
    "2. Clinical data of overall survival,\n",
    "3. Clinical evaluation of progression status,\n",
    "4. Uncertainty estimation for the predicted tumor sub-regions.\n",
    "\n",
    "This file is for goal #2: Overall Survival Prediction utilizing the MRI data and clinical survival data."
   ]
  }
 ],
 "metadata": {
  "kernelspec": {
   "display_name": "Python 3 (ipykernel)",
   "language": "python",
   "name": "python3"
  },
  "language_info": {
   "codemirror_mode": {
    "name": "ipython",
    "version": 3
   },
   "file_extension": ".py",
   "mimetype": "text/x-python",
   "name": "python",
   "nbconvert_exporter": "python",
   "pygments_lexer": "ipython3",
   "version": "3.9.19"
  }
 },
 "nbformat": 4,
 "nbformat_minor": 5
}
